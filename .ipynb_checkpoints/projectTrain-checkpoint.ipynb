{
 "cells": [
  {
   "cell_type": "code",
   "execution_count": 1,
   "metadata": {
    "collapsed": true
   },
   "outputs": [],
   "source": [
    "from pymongo import MongoClient\n",
    "client = MongoClient('localhost', 27017)"
   ]
  },
  {
   "cell_type": "code",
   "execution_count": 2,
   "metadata": {
    "collapsed": true
   },
   "outputs": [],
   "source": [
    "import tweepy\n",
    "import json\n",
    "import csv"
   ]
  },
  {
   "cell_type": "code",
   "execution_count": 3,
   "metadata": {
    "collapsed": true
   },
   "outputs": [],
   "source": [
    "db = client.local"
   ]
  },
  {
   "cell_type": "code",
   "execution_count": 4,
   "metadata": {
    "collapsed": true
   },
   "outputs": [],
   "source": [
    "class MyListener(tweepy.StreamListener):\n",
    "        \n",
    "    def on_data(self, data):\n",
    "        try:\n",
    "            tweet = json.loads(data)\n",
    "            # Filter out retweets and tweets from SouthwestAir\n",
    "            if not tweet['retweeted'] and 'RT @' not in tweet['text'] and tweet['user']['screen_name'] != 'SouthwestAir':\n",
    "                if db.trainTweets.find().count() <= 100:\n",
    "                    id_str = tweet['id_str']\n",
    "                    text = tweet['text']\n",
    "                    db.trainTweets.insert_one(\n",
    "                        {\n",
    "                            'id_str': id_str,\n",
    "                            'text': text,\n",
    "                        }\n",
    "                    )\n",
    "                else:\n",
    "                    return False\n",
    "                \n",
    "        except Exception as e:\n",
    "            print(\"error: \" + str(e))\n",
    "        \n",
    "    def on_error(self, error):\n",
    "        if error == 420:\n",
    "            return False\n",
    "        print(error)"
   ]
  },
  {
   "cell_type": "code",
   "execution_count": 5,
   "metadata": {
    "collapsed": true
   },
   "outputs": [],
   "source": [
    "C_KEY = 'Qiin47L4D53g3zH0GIfXG3egR'\n",
    "C_SECRET = 'QMUgcciWcCgeklW3ipyLRdJYlQgWYWQOQU4rKhrurE58UyORQg'\n",
    "A_TOKEN_KEY = '907976726097080321-WNdhYqcbztSbHviU3APVjJi9KlTgAeY'\n",
    "A_TOKEN_SECRET = 'KiwAd38Pyxe7qrrAhZUhE2W1ScZT4l2UgJ5yByCWb1U0f'"
   ]
  },
  {
   "cell_type": "code",
   "execution_count": 6,
   "metadata": {
    "collapsed": true
   },
   "outputs": [],
   "source": [
    "auth = tweepy.OAuthHandler(C_KEY, C_SECRET)\n",
    "auth.set_access_token(A_TOKEN_KEY, A_TOKEN_SECRET)\n",
    "api = tweepy.API(auth)"
   ]
  },
  {
   "cell_type": "code",
   "execution_count": 7,
   "metadata": {},
   "outputs": [],
   "source": [
    "listener = MyListener(api=tweepy.API(wait_on_rate_limit=True))\n",
    "myStream = tweepy.Stream(auth=auth, listener=listener)\n",
    "myStream.filter(track=['southwest airlines', 'SouthwestAir', 'southwestairlines', 'flying southwest', 'fly southwest'])"
   ]
  },
  {
   "cell_type": "code",
   "execution_count": 8,
   "metadata": {},
   "outputs": [
    {
     "name": "stdout",
     "output_type": "stream",
     "text": [
      "Found 101 tweets:\n",
      "Southwest Airlines flight #SWA432 spotted at 16,775 feet! https://t.co/X80ugao76Q\n",
      "Southwest Airlines flight #SWA227 spotted at 18,500 feet! https://t.co/FBjyFKMQEi\n",
      "So cool @jasminecainrock  i bet they loved that live show @ the airport . https://t.co/TSizhtlsAz\n",
      "Southwest Airlines flight #SWA227 spotted at 4,950 feet! https://t.co/FBjyFKMQEi\n",
      "Southwest Airlines flight #SWA432 spotted at 29,000 feet! https://t.co/X80ugao76Q\n",
      "@SouthwestAir Nobody was there when our flight got in. Like it was literally empty in Spokane international airport… https://t.co/386lkfEK2l\n",
      "Southwest Airlines To Feature Live Country Music Concerts On Its Flights #muslim https://t.co/8Ak5PZCPP8 (via… https://t.co/WgePG1dQmn\n",
      "@SouthwestAir You’ll for this too happen.\n",
      "SMF to Austin nonstop? Let’s go. https://t.co/5Zwxi5Uhg8\n",
      "Oh my god 😂 always do but had to get to ATL on super short notice for super cheap. Sorry, next time. https://t.co/fYDbjABE8i\n",
      "Thank you @SouthwestAir for providing me with a voucher after a delay during my travel plans this past week. #bestairline\n",
      "@SouthwestAir I love this story!\n",
      "@lovejozie @SouthwestAir It’s my disguise for my corporate name 😂\n",
      "@WillBurke24 @SouthwestAir Absolute drama\n",
      "This 6-year-old girl wants to be a Southwest Airlines pilot so badly, she wears a uniform on every flight https://t.co/ipkM1d8Gig\n",
      "#SouthwestAir Trying Out In-#Flight Live Music - Nasdaq : https://t.co/YiRmSakZKT\n",
      "@SouthwestAir @heyd4rth\n",
      "Specifically mentioned in the expansion plans are Southwest Airlines, United, and Frontier Airlines. #UnitedAirlines https://t.co/SB8k55r04Z\n",
      "Southwest Airlines flight #SWA633 spotted at 2,000 feet! https://t.co/glV0ynXAz2\n",
      "@Jimapedia @MCO #RaceToMCO \n",
      "\n",
      "@PHLAirport @BUFAirport @SouthwestAir https://t.co/AwypahpXyC\n",
      "wtf @SouthwestAir losing my bag!!!!!!!!!!!!\n",
      "I might consider an Orlando City SC trip now https://t.co/6ritdLobk6\n",
      "@jasminecainrock @SouthwestAir Yeah! Janis\n",
      "@SouthwestAir About time we have a non stop to Cabo! ♥️\n",
      "Ohooooo 👀❤️#luv https://t.co/L34gzH5xzK\n",
      "This is the greatest thing that’s happened since @realDonaldTrump had his twitter shut down https://t.co/IT4xGlO8Vf\n",
      "Keep those mimosas flowing @SouthwestAir https://t.co/r1MgSCKzR7\n",
      "$% +1_877_294_2845 $%Southwest Airlines Booking Phone Number\n",
      "\n",
      "Call Southwest Airlines Booking Phone Number and get \n",
      "https://t.co/vR00FMA5MG\n",
      "@SouthwestAir My one and only airline, always and Forever\n",
      "@iAlwaysQuestion @ICU1972 It's why American Airlines got Congress to enact the Wright Amendment, to protect them fr… https://t.co/cZBSII8PMC\n",
      "Awww you guys ♥️💙 https://t.co/HEk5b9XWn1\n",
      "#!877~294~2845 %Southwest Airlines Booking Phone Number% Reservations\n",
      "\n",
      "Call Southwest Airlines Booking Phone Number\n",
      "https://t.co/SEHU1lEqkT\n",
      "Hey @SouthwestAir — where ya at? https://t.co/sGXd6EjigK\n",
      "@jasminecainrock @SouthwestAir Awesome @jasminecainrock u are amazing and u rock\n",
      "@SouthwestAir is flying to Buenos Aires out of SJC. I’m posting proof @ 10am!\n",
      "@jasminecainrock @SouthwestAir Thank you for being a real person! Fantastic voice.\n",
      "@SouthwestAir MCO — 10+ people waiting\n",
      "non stops to St. Louis? might have to go see @IndyCar at @GatewayRaceway https://t.co/v69gMLrSzT\n",
      "might have to fly out to see @IndyCar at Gateway. https://t.co/v69gMLrSzT\n",
      "They don’t ask just anyone to sing! https://t.co/PU2Kvn6grB\n",
      "@SouthwestAir What happened to southwest adding flights to Hawaii ?\n",
      "24 to NYC, photos series - https://t.co/O4cu9LEcfW #travel #inspire @delta @SouthwestAir\n",
      "Earned Media Rising Podcast: Southwest Airlines' Linda Rutherford and Frito-Lay NA's Chris Kuechenmeister… https://t.co/mJx6TkI5vM\n",
      "@SouthwestAir  https://t.co/XPovNkytRL\n",
      "@SouthwestAir So what's up with that Honolulu flight??\n",
      "Cautiously excited about these deals to O'ahu https://t.co/VIxEjWJ86v\n",
      "Southwest Airlines To Feature Live Country Music Concerts On Its Flights #musician https://t.co/NBHno3IYZo https://t.co/kbP7Yb2PZK\n",
      "Southwest Airlines To Feature Live Country Music Concerts On Its Flights #music https://t.co/cjxVp0X6S3 - via… https://t.co/nLrAMmj0U1\n",
      "@MarkBermanFox26 @SouthwestAir I would've taken out more gear and put more on!!\n",
      "Southwest Airlines announces planes to fly to Hawaii in 2018. https://t.co/MW3oyETeIc\n",
      "🤘👑🤘 https://t.co/5HgrkEaei3\n",
      "Someone should please sue them https://t.co/kq3HJjQx9x\n",
      "Southwest Airlines prepares for weekly and daily St. Louis to Cancun flights https://t.co/GXs6IBwpEt\n",
      "@SouthwestAir Hook it up with a free round trip to Dayton so that I can catch a wedding\n",
      "Lyft is partnering with you &amp; giving you 10 free rides Use code: DUSK &gt;&gt;&gt; Crazy about Southwest Airlines?\n",
      "@SouthwestAir No! I’m trying to get my son home from college. He’s a swimmer and doesn’t get released until morning… https://t.co/seKOey79OY\n",
      "@SouthwestAir I could cry... I can’t afford these tickets... no thanksgiving with my son #singlemotherproblems\n",
      "@SouthwestAir I did. Been checking fares for weeks. They’ve been high.\n",
      "@SouthwestAir Thanks. I’ll keep checking with the other airlines and sites. Maybe a miracle so he can come home\n",
      "Southwest 737 loving California... #southwestairlines #737\n",
      "https://t.co/t98O9YRWJ6 https://t.co/bKtGLI5pJd\n",
      "https://t.co/bZ2JcjZDxJ *Love money? Get a $50 credit with Lyft &lt;&lt; Coupon Code is: PARX &gt;&gt; Southwest Airlines #\n",
      "I just entered to win 100s of prizes from @lillypulitzer and @southwestair and you should too! https://t.co/qHzmbuOAkj #SummerInLilly\n",
      "Rewards Case Study: Southwest Airlines Rapid Rewards https://t.co/ohupMqmKmL #loyalty #rewards via @smilerewards https://t.co/vri5eiFhsq\n",
      "@AmericanAir is tripping. @SouthwestAir wya?😫\n",
      "Southwest Airlines prepares for weekly and daily St. Louis to Cancun flights https://t.co/tPiRRSFzxD\n",
      "@glassj3n @BUFAirport @MCO #RaceToMCO presented by @SouthwestAir\n",
      "Southwest Airlines prepares for weekly and daily St. Louis to Cancun flights https://t.co/0Ip9D3qWgg\n",
      "We love flying @southwestair. They are THE best when flying with infants. @ Charleston… https://t.co/1p2TGwYo0w\n",
      "@SouthwestAir why are people missing their flights because of this longline at Newark airport?!?!Crazy!!!@TSA whats… https://t.co/ylVCUrwNZO\n",
      "Rewards Case Study: Southwest Airlines Rapid Rewards https://t.co/MZ3DnW2om7 #loyalty via @smilerewards https://t.co/jQORqkpOVM\n",
      "@AJKFreeland @SouthwestAir You sound really spoiled and annoying. Then just drive stop whining. Next.\n",
      "Hmm gf had a flight at 6am had to be 2hrs before flight drop off at 4am and flight cancelled.. damn!!!! @SouthwestAir\n",
      "@jasminecainrock @SouthwestAir Awesome!  Love it.\n",
      "Ranked: Top 20 Global Airline Brands by Market Share. 1. Delta 2. United Airlines 3. Southwest Airlines 4. America.. https://t.co/9ud08vvSrL\n",
      "“C’mon everyone! Sing along if you know the words...’Hit the plane down, there’s no survivors’...” https://t.co/d2mJztZiXf\n",
      "@JMNashville @SouthwestAir and there are those of us who do not drink and would love a 'Naked Juice.' Time for innovation!\n",
      "@SouthwestAir She has to wait till 7am now\n",
      "Southwest Airlines To Feature Live Country Music Concerts On Its Flights #musician https://t.co/1B0WIikgQQ https://t.co/1WO5MkgbTX\n",
      "HS students @davidsonacademy researching superb customer engagement @SouthwestAir - as a VERY frequent flyer..I ageee!\n",
      "#teacher #writerslife\n",
      "I normally love @SouthwestAir. But cancelling flight reservations with literally no notice isn’t cool under any circumstance.\n",
      "@deray @SouthwestAir Oh no . . . Southwest is my favorite carrier too. If they're gonna start that nonsense though,… https://t.co/8ds9JotJOq\n",
      "@deray @SouthwestAir I'm sure they'll make it right.  I ❤️@SouthwestAir they're the best.  Flying #Southwest to Veg… https://t.co/vdTkfpOoMH\n",
      "who tf wants to listen to a concert on a plane. i try to pass out even before we take off https://t.co/o0yDim6hTf\n",
      "Southwest Airlines To Feature Live Country Music Concerts On Its Flights #music https://t.co/aWLk17CqlX https://t.co/rfW3Oi3s3X\n",
      "Hey @SouthwestAir we have a missing pilot on flight 200 to ATL from LGA. Do u need me to step in??\n",
      "I should have just bought an @SouthwestAir ticket cause these other airlines are trash. @SouthwestAir start flying To Europe and others plz!\n",
      "Southwest Airlines working on approvals to enter Hawaii market https://t.co/WquuRhfak4\n",
      "Same. https://t.co/VuXpjoC8m4\n",
      "Really, really sad to hear that @SouthwestAir will no longer fly out of FNT. You guys really are the best of the best.\n",
      "Southwest Airlines prepares for weekly and daily St. Louis to Cancun flights https://t.co/b19WtFPgpS\n",
      "Ramp Agent - Southwest Airlines - Denver, CO https://t.co/1SCDl6YFPc Job Denver\n",
      "Beech Hill Advisors Inc. Acquires New Position in #SouthwestAir #Airlines Company (LUV) - Week Herald : https://t.co/ur5hkXjRG0\n",
      "OMG #southwestairlines you are always looking for ways to making #flying and #traveling easier.… https://t.co/HVNHlDVXix\n",
      "@deray @SouthwestAir Messy\n",
      "@SouthwestAir I understand. Just wanted you guys to know how loved you are. ❤️✈️\n",
      "Bout to sleep this ENTIRE flight!  😴 #Chicago ✈️ #LosAngeles #LegRoom @ Southwest Airlines at MDW https://t.co/b9JG29v7IZ\n",
      "Can someone teach me how to avoid getting stuck in the middle seat? @SouthwestAir\n",
      "Convenient? Not at all ... security lines at @KCIAirport for a 6:30 am @SouthwestAir flight. Vote YES for a… https://t.co/PES2s06bGM\n",
      "So mad that Southwest Airlines is leaving Flint airport! Guess I need to find a new favorite airline.. any suggestions?\n",
      "So upset that @SouthwestAir  is leaving Flint Bishop Airport! Guess I need a new favorite airline.. any suggestions?\n",
      "Ok @SouthwestAir I see you and your exit row extra legroom. First time flying with you &amp; already 👍\n"
     ]
    }
   ],
   "source": [
    "tweets = db.trainTweets\n",
    "print \"Found\", tweets.count(), \"tweets:\" \n",
    "for tweet in tweets.find():\n",
    "    print tweet['text']"
   ]
  },
  {
   "cell_type": "code",
   "execution_count": 14,
   "metadata": {},
   "outputs": [],
   "source": [
    "with open('trainTweets.csv', 'wb') as outFile:\n",
    "    writer = csv.writer(outFile)\n",
    "    for tweet in tweets.find():\n",
    "        writer.writerow([tweet['id_str'], tweet['text'].encode('ascii', 'ignore').decode('ascii')])"
   ]
  },
  {
   "cell_type": "code",
   "execution_count": null,
   "metadata": {
    "collapsed": true
   },
   "outputs": [],
   "source": []
  }
 ],
 "metadata": {
  "kernelspec": {
   "display_name": "Python 2",
   "language": "python",
   "name": "python2"
  },
  "language_info": {
   "codemirror_mode": {
    "name": "ipython",
    "version": 2
   },
   "file_extension": ".py",
   "mimetype": "text/x-python",
   "name": "python",
   "nbconvert_exporter": "python",
   "pygments_lexer": "ipython2",
   "version": "2.7.13"
  }
 },
 "nbformat": 4,
 "nbformat_minor": 2
}
