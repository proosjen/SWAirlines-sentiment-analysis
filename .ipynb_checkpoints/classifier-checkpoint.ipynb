{
 "cells": [
  {
   "cell_type": "code",
   "execution_count": 59,
   "metadata": {
    "collapsed": true
   },
   "outputs": [],
   "source": [
    "import nltk"
   ]
  },
  {
   "cell_type": "code",
   "execution_count": 60,
   "metadata": {
    "collapsed": true
   },
   "outputs": [],
   "source": [
    "from pymongo import MongoClient\n",
    "client = MongoClient('localhost', 27017)\n",
    "db = client.local"
   ]
  },
  {
   "cell_type": "code",
   "execution_count": 61,
   "metadata": {},
   "outputs": [],
   "source": [
    "trainData = db.trainData\n",
    "trainTweets = []\n",
    "for tweet in trainData.find():\n",
    "    pair = ()\n",
    "    pair = pair + (tweet['processed_words'], tweet['category'])\n",
    "    trainTweets.append(pair)"
   ]
  },
  {
   "cell_type": "code",
   "execution_count": 91,
   "metadata": {},
   "outputs": [],
   "source": [
    "with open('opinion-lexicon-English/positive-words.txt') as pos_words:\n",
    "    positive_words = [word.strip('\\n') for word in pos_words.readlines()]\n",
    "with open('opinion-lexicon-English/negative-words.txt') as neg_words:\n",
    "    negative_words = [word.strip('\\n') for word in neg_words.readlines()]"
   ]
  },
  {
   "cell_type": "code",
   "execution_count": 93,
   "metadata": {
    "collapsed": true
   },
   "outputs": [],
   "source": [
    "def polarity_ratio(tweet_word_list):\n",
    "    num_pos = 0\n",
    "    num_neg = 0\n",
    "    for word in tweet_word_list:\n",
    "        if str(word) in positive_words:\n",
    "            num_pos += 1\n",
    "        if str(word) in negative_words:\n",
    "            num_neg += 1\n",
    "    return {'num_pos': num_pos, 'num_neg': num_neg}"
   ]
  },
  {
   "cell_type": "code",
   "execution_count": null,
   "metadata": {
    "collapsed": true
   },
   "outputs": [],
   "source": [
    "def classify_polarity(classification, polarity):\n",
    "    if classification == 'positive':\n",
    "        if polarity['num_pos'] > polarity['num_neg']:\n",
    "            return True\n",
    "    else if classification == 'negative':\n",
    "        if polarity['num_neg'] > polarity['num_pos']:\n",
    "            return True\n",
    "    else if classification == 'neutral':\n",
    "        if pol"
   ]
  },
  {
   "cell_type": "code",
   "execution_count": 64,
   "metadata": {
    "collapsed": true
   },
   "outputs": [],
   "source": [
    "def get_words_in_tweets(tweets):\n",
    "    allWords = []\n",
    "    for (processed_words, category) in tweets:\n",
    "        allWords.extend(processed_words)\n",
    "    return allWords"
   ]
  },
  {
   "cell_type": "code",
   "execution_count": 65,
   "metadata": {
    "collapsed": true
   },
   "outputs": [],
   "source": [
    "def get_word_features(wordList):\n",
    "    wordList = nltk.FreqDist(wordList)\n",
    "    wordFeatures = wordList.keys()\n",
    "    return wordFeatures"
   ]
  },
  {
   "cell_type": "code",
   "execution_count": 66,
   "metadata": {},
   "outputs": [],
   "source": [
    "word_features = get_word_features(get_words_in_tweets(trainTweets))"
   ]
  },
  {
   "cell_type": "code",
   "execution_count": 67,
   "metadata": {
    "collapsed": true
   },
   "outputs": [],
   "source": [
    "def extract_features(document):\n",
    "    document_words = set(document)\n",
    "    features = {}\n",
    "    for word in word_features:\n",
    "        features['contains(%s)' % word] = (word in document_words)\n",
    "    return features"
   ]
  },
  {
   "cell_type": "code",
   "execution_count": 68,
   "metadata": {
    "collapsed": true
   },
   "outputs": [],
   "source": [
    "training_set = nltk.classify.apply_features(extract_features, trainTweets)"
   ]
  },
  {
   "cell_type": "code",
   "execution_count": 69,
   "metadata": {
    "collapsed": true
   },
   "outputs": [],
   "source": [
    "classifier = nltk.NaiveBayesClassifier.train(training_set)"
   ]
  },
  {
   "cell_type": "code",
   "execution_count": 72,
   "metadata": {},
   "outputs": [
    {
     "name": "stdout",
     "output_type": "stream",
     "text": [
      "Most Informative Features\n",
      "       contains(airport) = True           negati : positi =      6.7 : 1.0\n",
      "           contains(get) = True           negati : positi =      5.5 : 1.0\n",
      "     contains(southwest) = True           positi : negati =      5.4 : 1.0\n",
      "      contains(airlines) = True           positi : negati =      4.7 : 1.0\n",
      "            contains(of) = True           negati : positi =      4.3 : 1.0\n",
      "         contains(plane) = True           negati : positi =      4.3 : 1.0\n",
      "  contains(southwestair) = False          positi : negati =      4.2 : 1.0\n",
      "          contains(live) = True           neutra : positi =      4.0 : 1.0\n",
      "        contains(flying) = True           positi : neutra =      4.0 : 1.0\n",
      "            contains(to) = True           negati : neutra =      3.9 : 1.0\n",
      "None\n"
     ]
    }
   ],
   "source": [
    "print classifier.show_most_informative_features(10)"
   ]
  },
  {
   "cell_type": "code",
   "execution_count": 73,
   "metadata": {},
   "outputs": [],
   "source": [
    "testData = db.testTweets\n",
    "testTweets = []\n",
    "for tweet in testData.find():\n",
    "    testTweets.append(tweet['processed_words'])"
   ]
  },
  {
   "cell_type": "code",
   "execution_count": 94,
   "metadata": {},
   "outputs": [
    {
     "name": "stdout",
     "output_type": "stream",
     "text": [
      "[u'here', u'i', u'go', u'again', u'this', u'southwestair', u'crew', u'is', u'hilarious']\n",
      "positive\n",
      "{'num_neg': 0, 'num_pos': 1}\n",
      "\n",
      "\n",
      "[u'my', u'southwestair', u'flight', u'had', u'the', u'best', u'jokes', u'during', u'the', u'safety', u'announcements', u'way', u'to', u'make', u'you', u'pay', u'attention']\n",
      "neutral\n",
      "{'num_neg': 0, 'num_pos': 1}\n",
      "\n",
      "\n",
      "[u'wdrkb']\n",
      "neutral\n",
      "{'num_neg': 0, 'num_pos': 0}\n",
      "\n",
      "\n",
      "[u'favorite', u'airline']\n",
      "neutral\n",
      "{'num_neg': 0, 'num_pos': 1}\n",
      "\n",
      "\n",
      "[u'southwestair', u'flight', u'amazing', u'except', u'rlly', u'horrible', u'employee', u'thankfully', u'another', u'employee', u'went', u'and', u'beyond', u'make', u'for', u'bad']\n",
      "positive\n",
      "{'num_neg': 2, 'num_pos': 1}\n",
      "\n",
      "\n",
      "[u'southwestair', u'am', u'seeing', u'ad', u'am', u'south', u'carolina', u'terrorists', u'hacking', u'my', u'internet', u'twitter', u'connecti']\n",
      "neutral\n",
      "{'num_neg': 0, 'num_pos': 0}\n",
      "\n",
      "\n",
      "[u'southwestair', u'was', u'completely', u'rude', u'point', u'ppl', u'two', u'rows', u'looking', u'each', u'like', u'wtf', u'her', u'problem', u'shd', u'work', u'american']\n",
      "negative\n",
      "{'num_neg': 2, 'num_pos': 2}\n",
      "\n",
      "\n",
      "[u'southwestair', u'see']\n",
      "neutral\n",
      "{'num_neg': 0, 'num_pos': 0}\n",
      "\n",
      "\n",
      "[u'a', u'spiritairlines', u'employee', u'gets', u'a', u'southwestair', u'flight', u'full', u'uniform']\n",
      "neutral\n",
      "{'num_neg': 0, 'num_pos': 0}\n",
      "\n",
      "\n"
     ]
    }
   ],
   "source": [
    "for i in range(0,9):\n",
    "    print(testTweets[i])\n",
    "    print(classifier.classify(extract_features(testTweets[i])))\n",
    "    print(polarity_ratio(testTweets[i]))\n",
    "    print('\\n')"
   ]
  }
 ],
 "metadata": {
  "kernelspec": {
   "display_name": "Python 2",
   "language": "python",
   "name": "python2"
  },
  "language_info": {
   "codemirror_mode": {
    "name": "ipython",
    "version": 2
   },
   "file_extension": ".py",
   "mimetype": "text/x-python",
   "name": "python",
   "nbconvert_exporter": "python",
   "pygments_lexer": "ipython2",
   "version": "2.7.13"
  }
 },
 "nbformat": 4,
 "nbformat_minor": 2
}
