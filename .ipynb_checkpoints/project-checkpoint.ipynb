{
 "cells": [
  {
   "cell_type": "code",
   "execution_count": 1,
   "metadata": {
    "collapsed": true
   },
   "outputs": [],
   "source": [
    "from pymongo import MongoClient\n",
    "connection = MongoClient('localhost', 27017)"
   ]
  },
  {
   "cell_type": "code",
   "execution_count": 2,
   "metadata": {
    "collapsed": true
   },
   "outputs": [],
   "source": [
    "import tweepy\n",
    "from tweepy import OAuthHandler\n",
    "from tweepy import API\n",
    "from tweepy.streaming import StreamListener\n",
    "from tweepy import Stream\n",
    "import time\n",
    "import json\n",
    "import csv\n",
    "from nltk.corpus import stopwords\n",
    "from nltk.tokenize import word_tokenize"
   ]
  },
  {
   "cell_type": "code",
   "execution_count": 3,
   "metadata": {
    "collapsed": true
   },
   "outputs": [],
   "source": [
    "C_KEY = 'Qiin47L4D53g3zH0GIfXG3egR'\n",
    "C_SECRET = 'QMUgcciWcCgeklW3ipyLRdJYlQgWYWQOQU4rKhrurE58UyORQg'\n",
    "A_TOKEN_KEY = '907976726097080321-WNdhYqcbztSbHviU3APVjJi9KlTgAeY'\n",
    "A_TOKEN_SECRET = 'KiwAd38Pyxe7qrrAhZUhE2W1ScZT4l2UgJ5yByCWb1U0f'"
   ]
  },
  {
   "cell_type": "code",
   "execution_count": 4,
   "metadata": {
    "collapsed": true
   },
   "outputs": [],
   "source": [
    "auth = OAuthHandler(C_KEY, C_SECRET)\n",
    "auth.set_access_token(A_TOKEN_KEY, A_TOKEN_SECRET)\n",
    "api = API(auth)"
   ]
  },
  {
   "cell_type": "code",
   "execution_count": 16,
   "metadata": {},
   "outputs": [],
   "source": [
    "query = 'southwest airlines OR SouthwestAir OR southwestairlines'\n",
    "posts = api.search(q=query, language='en', count=100)\n",
    "\n",
    "db = connection['local']\n",
    "tweets = []\n",
    "\n",
    "for tweet in posts:\n",
    "    if not tweet.retweeted and 'RT @' not in tweet.text and tweet.user.screen_name != 'SouthwestAir':\n",
    "        tweets.append(tweet.text.encode('ascii', 'ignore').decode('ascii'))\n",
    "\n",
    "with open('train.csv', 'wb') as out_file:\n",
    "    writer = csv.writer(out_file)\n",
    "    for tweet in tweets:\n",
    "        writer.writerow([tweet])"
   ]
  },
  {
   "cell_type": "code",
   "execution_count": 26,
   "metadata": {
    "collapsed": true
   },
   "outputs": [],
   "source": [
    "class MyListener(StreamListener):\n",
    "    \n",
    "    def __init__ (self, time_limit=300):\n",
    "        self.start_time = time.time()\n",
    "        self.limit = time_limit\n",
    "        self.outFile = open('tweets.json', 'a')\n",
    "        super(MyListener, self).__init__()\n",
    "        \n",
    "    def on_data(self, data):\n",
    "        if (time.time() - self.start_time) < self.limit:\n",
    "            self.outFile.write(data)\n",
    "            self.outFile.write('\\n')\n",
    "            \n",
    "            tweet = json.loads(data)\n",
    "            if not tweet['retweeted'] and 'RT @' not in tweet['text'] and tweet['place']:\n",
    "                '''\n",
    "                get the tweet (tweet['text']) and preprocess it. then insert the tweet into a database. \n",
    "                \n",
    "                '''\n",
    "            return True\n",
    "        else:\n",
    "            self.outFile.close()\n",
    "            self.testFile.close()\n",
    "            return False\n",
    "        \n",
    "    def on_error(self, status):\n",
    "        print(status)"
   ]
  },
  {
   "cell_type": "code",
   "execution_count": null,
   "metadata": {
    "collapsed": true
   },
   "outputs": [],
   "source": [
    "myStream = Stream(auth, MyListener(time_limit=300))\n",
    "myStream.filter(track=['southwest airlines', 'SouthwestAir', 'southwestairlines'])"
   ]
  }
 ],
 "metadata": {
  "kernelspec": {
   "display_name": "Python 2",
   "language": "python",
   "name": "python2"
  },
  "language_info": {
   "codemirror_mode": {
    "name": "ipython",
    "version": 2
   },
   "file_extension": ".py",
   "mimetype": "text/x-python",
   "name": "python",
   "nbconvert_exporter": "python",
   "pygments_lexer": "ipython2",
   "version": "2.7.13"
  }
 },
 "nbformat": 4,
 "nbformat_minor": 2
}
