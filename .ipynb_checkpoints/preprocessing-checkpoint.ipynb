{
 "cells": [
  {
   "cell_type": "code",
   "execution_count": null,
   "metadata": {
    "collapsed": true
   },
   "outputs": [],
   "source": [
    "from pymongo import MongoClient\n",
    "client = MongoClient('localhost', 27017)"
   ]
  },
  {
   "cell_type": "code",
   "execution_count": null,
   "metadata": {
    "collapsed": true
   },
   "outputs": [],
   "source": [
    "import nltk\n",
    "import re\n",
    "import tweepy\n",
    "import csv\n",
    "import json\n",
    "import settings"
   ]
  },
  {
   "cell_type": "code",
   "execution_count": null,
   "metadata": {
    "collapsed": true
   },
   "outputs": [],
   "source": [
    "db = client.local"
   ]
  },
  {
   "cell_type": "code",
   "execution_count": null,
   "metadata": {
    "collapsed": true
   },
   "outputs": [],
   "source": [
    "stopwords = nltk.corpus.stopwords.words(\"english\")\n",
    "whitelist = [\"n't\", \"not\"]"
   ]
  },
  {
   "cell_type": "code",
   "execution_count": null,
   "metadata": {
    "collapsed": true
   },
   "outputs": [],
   "source": [
    "class TweetCleanser:\n",
    "    def to_ascii(self, text):\n",
    "        return text.encode('ascii', 'ignore').decode('ascii')\n",
    "    \n",
    "    def remove_urls(self, text):\n",
    "        return re.sub(r\"http.?://[^\\s]+[\\s]?\", '', text)\n",
    "    \n",
    "    def remove_special_characters(self, text):\n",
    "        return re.sub(\"[^0-9A-Za-z']\", ' ', text)\n",
    "    \n",
    "    def remove_usernames(self, text):\n",
    "        return re.sub(r\"@[^\\s]+[\\s]?\", '', text)\n",
    "    \n",
    "    def remove_numbers(self, text):\n",
    "        return re.sub(r\"\\s?[0-9]+\\.?[0-9]*\", '', text)\n",
    "    \n",
    "    def remove_stopwords(self, tokens):\n",
    "        for token in tokens:\n",
    "            if token in stopwords and token not in whitelist:\n",
    "                tokens.remove(token)\n",
    "        return tokens"
   ]
  },
  {
   "cell_type": "code",
   "execution_count": null,
   "metadata": {},
   "outputs": [],
   "source": [
    "class TweetStemToken:\n",
    "    def stem(self, text):\n",
    "        stemmer = nltk.PorterStemmer() \n",
    "        return stemmer.stem(text.lower())\n",
    "    \n",
    "    def tokenize(self, text):\n",
    "        tokenizer = nltk.word_tokenize\n",
    "        tokens = [] + tokenizer(text)\n",
    "        return tokens"
   ]
  },
  {
   "cell_type": "code",
   "execution_count": null,
   "metadata": {
    "collapsed": true
   },
   "outputs": [],
   "source": [
    "class MyListener(tweepy.StreamListener):\n",
    "        \n",
    "    def on_data(self, data):\n",
    "        try:\n",
    "            tweet = json.loads(data)\n",
    "            # Filter out retweets and tweets from SouthwestAir and tweets without geo-tags\n",
    "            if not tweet['retweeted'] and 'RT @' not in tweet['text'] and tweet['user']['screen_name'] != 'SouthwestAir' and tweet['place']:\n",
    "                \n",
    "                # Preprocess tweet\n",
    "                text = tweet['text']\n",
    "                cleanser = TweetCleanser()\n",
    "                stemmer = TweetStemToken()\n",
    "                processed_words = cleanser.to_ascii(text)\n",
    "                processed_words = cleanser.remove_urls(processed_words)\n",
    "                processed_words = cleanser.remove_special_characters(processed_words)\n",
    "                processed_words = cleanser.remove_usernames(processed_words)\n",
    "                processed_words = cleanser.remove_numbers(processed_words)\n",
    "                processed_words = stemmer.stem(processed_words)\n",
    "                processed_words = stemmer.tokenize(processed_words)\n",
    "                \n",
    "                id_str = tweet['id_str']\n",
    "                place_type = tweet['place']['place_type']\n",
    "                name = tweet['place']['name']\n",
    "                full_name = tweet['place']['full_name']\n",
    "                country_code = tweet['place']['country_code']\n",
    "                country = tweet['place']['country']\n",
    "                coordinates = tweet['place']['bounding_box']['coordinates']\n",
    "                \n",
    "                db.testTweets.insert_one(\n",
    "                    {\n",
    "                        'id_str': id_str,\n",
    "                        'text': text,\n",
    "                        'place_type': place_type,\n",
    "                        'name': name,\n",
    "                        'full_name': full_name,\n",
    "                        'country_code': country_code,\n",
    "                        'country': country,\n",
    "                        'coordinates': coordinates,\n",
    "                        'processed_words': processed_words,\n",
    "                    }\n",
    "                )\n",
    "                \n",
    "        except Exception as e:\n",
    "            print(\"error: \" + str(e))\n",
    "        \n",
    "    def on_error(self, error):\n",
    "        if error == 420:\n",
    "            return False\n",
    "        print(error)"
   ]
  },
  {
   "cell_type": "code",
   "execution_count": null,
   "metadata": {
    "collapsed": true
   },
   "outputs": [],
   "source": [
    "C_KEY = settings.C_KEY\n",
    "C_SECRET = settings.C_SECRET\n",
    "A_TOKEN_KEY = settings.A_TOKEN_KEY\n",
    "A_TOKEN_SECRET = settings.A_TOKEN_SECRET"
   ]
  },
  {
   "cell_type": "code",
   "execution_count": null,
   "metadata": {
    "collapsed": true
   },
   "outputs": [],
   "source": [
    "auth = tweepy.OAuthHandler(C_KEY, C_SECRET)\n",
    "auth.set_access_token(A_TOKEN_KEY, A_TOKEN_SECRET)\n",
    "api = tweepy.API(auth)"
   ]
  },
  {
   "cell_type": "code",
   "execution_count": null,
   "metadata": {},
   "outputs": [],
   "source": [
    "listener = MyListener(api=tweepy.API(wait_on_rate_limit=True))\n",
    "myStream = tweepy.Stream(auth=auth, listener=listener)\n",
    "myStream.filter(track=['southwest airlines', 'SouthwestAir', 'southwestairlines', 'flying southwest', 'fly southwest'])"
   ]
  },
  {
   "cell_type": "code",
   "execution_count": null,
   "metadata": {
    "collapsed": true
   },
   "outputs": [],
   "source": []
  }
 ],
 "metadata": {
  "kernelspec": {
   "display_name": "Python 2",
   "language": "python",
   "name": "python2"
  },
  "language_info": {
   "codemirror_mode": {
    "name": "ipython",
    "version": 2
   },
   "file_extension": ".py",
   "mimetype": "text/x-python",
   "name": "python",
   "nbconvert_exporter": "python",
   "pygments_lexer": "ipython2",
   "version": "2.7.13"
  }
 },
 "nbformat": 4,
 "nbformat_minor": 2
}
