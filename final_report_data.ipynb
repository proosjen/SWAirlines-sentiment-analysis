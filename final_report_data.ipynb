{
 "cells": [
  {
   "cell_type": "code",
   "execution_count": 8,
   "metadata": {
    "collapsed": true
   },
   "outputs": [],
   "source": [
    "from pymongo import MongoClient\n",
    "client = MongoClient('localhost', 27017)"
   ]
  },
  {
   "cell_type": "code",
   "execution_count": 9,
   "metadata": {
    "collapsed": true
   },
   "outputs": [],
   "source": [
    "import nltk\n",
    "%matplotlib inline\n",
    "import matplotlib.pyplot as plt\n",
    "import numpy as np\n",
    "import csv\n",
    "import pandas as pd\n",
    "import classifier"
   ]
  },
  {
   "cell_type": "code",
   "execution_count": 10,
   "metadata": {
    "collapsed": true
   },
   "outputs": [],
   "source": [
    "db = client.local"
   ]
  },
  {
   "cell_type": "code",
   "execution_count": 11,
   "metadata": {
    "collapsed": true
   },
   "outputs": [],
   "source": [
    "testData = db.testTweets\n",
    "testTweets = []\n",
    "for tweet in testData.find():\n",
    "    testTweets.append({'processed_words': tweet['processed_words'],\n",
    "                       'text': tweet['text']})"
   ]
  },
  {
   "cell_type": "code",
   "execution_count": 17,
   "metadata": {},
   "outputs": [
    {
     "name": "stdout",
     "output_type": "stream",
     "text": [
      "@leiftheviking @sarevao @SouthwestAir I flew on Halloween morning and Southwest gate employees handed out treat bag… https://t.co/X1HmnHw5ql\n",
      "neutral\n",
      "@SouthwestAir can I just tell you what amazing customer service you have? Traveling with a group of 24 hs students… https://t.co/AxrpjMo8jO\n",
      "positive\n",
      "@SouthwestAir upset you lost my bag w all my maternity clothes we live 1.5 from the airport &amp; you wont send it to me? 👎🤰\n",
      "negative\n",
      "Love how @SouthwestAir crew makes an early morning flight fun with great comedy from the crew. Laughter is the best way to start the day!\n",
      "positive\n",
      "Shoutout to Charles and Laurel on @SouthwestAir flight 550 (SMF➡️BWI) yesterday morning. Helped to make the 3:30am… https://t.co/Sg2cHhBbSx\n",
      "positive\n",
      "In-flight internet is so slow at @SouthwestAir. It's just frustration and waste of money. Even @twitter takes forever to load.\n",
      "negative\n",
      "👋🏽 https://t.co/S07CUYFp6g\n",
      "neutral\n",
      "@AmericanAirlines you guys suck all around!  Gate agents are old and cranky!  Def going back to @SouthwestAir!  #customersvcmyass\n",
      "negative\n",
      "You gotta LUV this Company! https://t.co/h0iYdaDe91\n",
      "neutral\n",
      "Southwest Airlines Launches Service to Costa Rica from Fort Lauderdale https://t.co/ABQNXA3LUI via @The Costa Rica News\n",
      "neutral\n"
     ]
    }
   ],
   "source": [
    "for i in range(330, 340):\n",
    "    print(testTweets[i]['text'])\n",
    "    print(classifier.classify(testTweets[i]['processed_words']))"
   ]
  },
  {
   "cell_type": "markdown",
   "metadata": {},
   "source": [
    "# Most Common Place Type "
   ]
  },
  {
   "cell_type": "code",
   "execution_count": 5,
   "metadata": {},
   "outputs": [
    {
     "data": {
      "text/plain": [
       "<matplotlib.text.Text at 0x10d478890>"
      ]
     },
     "execution_count": 5,
     "metadata": {},
     "output_type": "execute_result"
    },
    {
     "data": {
      "image/png": "[encoded data removed]",
      "text/plain": [
       "<matplotlib.figure.Figure at 0x119187790>"
      ]
     },
     "metadata": {},
     "output_type": "display_data"
    }
   ],
   "source": [
    "place_types = []\n",
    "for tweet in testData.find():\n",
    "    place_types.append(tweet['place_type'])\n",
    "place_types = nltk.FreqDist(place_types)\n",
    "\n",
    "places = []\n",
    "frequencies = []\n",
    "for place in place_types.items():\n",
    "    places.append(place[0])\n",
    "    frequencies.append(place[1])\n",
    "\n",
    "x = np.arange(len(places))\n",
    "y = frequencies\n",
    "\n",
    "plt.bar(x, y)\n",
    "plt.xticks(x, places)\n",
    "plt.ylabel('Number of occurrences')\n",
    "plt.title('Place type distribution in test data')"
   ]
  },
  {
   "cell_type": "markdown",
   "metadata": {},
   "source": [
    "# Most Common Place"
   ]
  },
  {
   "cell_type": "code",
   "execution_count": 6,
   "metadata": {},
   "outputs": [
    {
     "data": {
      "text/plain": [
       "<matplotlib.text.Text at 0x11917b390>"
      ]
     },
     "execution_count": 6,
     "metadata": {},
     "output_type": "execute_result"
    },
    {
     "data": {
      "image/png": "[encoded data removed]",
      "text/plain": [
       "<matplotlib.figure.Figure at 0x1191876d0>"
      ]
     },
     "metadata": {},
     "output_type": "display_data"
    }
   ],
   "source": [
    "place_names = []\n",
    "for tweet in testData.find():\n",
    "    place_names.append(tweet['name'])\n",
    "place_names = nltk.FreqDist(place_names)\n",
    "\n",
    "names = []\n",
    "frequencies = []\n",
    "place_names = place_names.most_common(5)\n",
    "for name in place_names:\n",
    "    names.append(name[0])\n",
    "    frequencies.append(name[1])\n",
    "\n",
    "x = np.arange(len(names))\n",
    "y = frequencies\n",
    "\n",
    "plt.bar(x, y)\n",
    "plt.xticks(x, names)\n",
    "plt.ylabel('Number of occurrences')\n",
    "plt.title(' Top 5 most common \"Place\" names distribution in test data')"
   ]
  },
  {
   "cell_type": "code",
   "execution_count": null,
   "metadata": {
    "collapsed": true
   },
   "outputs": [],
   "source": []
  }
 ],
 "metadata": {
  "kernelspec": {
   "display_name": "Python 2",
   "language": "python",
   "name": "python2"
  },
  "language_info": {
   "codemirror_mode": {
    "name": "ipython",
    "version": 2
   },
   "file_extension": ".py",
   "mimetype": "text/x-python",
   "name": "python",
   "nbconvert_exporter": "python",
   "pygments_lexer": "ipython2",
   "version": "2.7.13"
  }
 },
 "nbformat": 4,
 "nbformat_minor": 2
}
