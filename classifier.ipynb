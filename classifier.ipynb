{
 "cells": [
  {
   "cell_type": "code",
   "execution_count": 47,
   "metadata": {
    "collapsed": true
   },
   "outputs": [],
   "source": [
    "import nltk"
   ]
  },
  {
   "cell_type": "code",
   "execution_count": 48,
   "metadata": {
    "collapsed": true
   },
   "outputs": [],
   "source": [
    "from pymongo import MongoClient\n",
    "client = MongoClient('localhost', 27017)\n",
    "db = client.local"
   ]
  },
  {
   "cell_type": "code",
   "execution_count": 49,
   "metadata": {
    "collapsed": true
   },
   "outputs": [],
   "source": [
    "trainData = db.trainData\n",
    "trainTweets = []\n",
    "for tweet in trainData.find():\n",
    "    pair = ()\n",
    "    pair = pair + (tweet['processed_words'], tweet['category'])\n",
    "    trainTweets.append(pair)"
   ]
  },
  {
   "cell_type": "code",
   "execution_count": 50,
   "metadata": {
    "collapsed": true
   },
   "outputs": [],
   "source": [
    "with open('opinion-lexicon-English/positive-words.txt') as pos_words:\n",
    "    positive_words = [word.strip('\\n') for word in pos_words.readlines()]\n",
    "with open('opinion-lexicon-English/negative-words.txt') as neg_words:\n",
    "    negative_words = [word.strip('\\n') for word in neg_words.readlines()]"
   ]
  },
  {
   "cell_type": "code",
   "execution_count": 51,
   "metadata": {
    "collapsed": true
   },
   "outputs": [],
   "source": [
    "def polarity_ratio(tweet_word_list):\n",
    "    num_pos = 0\n",
    "    num_neg = 0\n",
    "    for word in tweet_word_list:\n",
    "        if str(word) in positive_words:\n",
    "            num_pos += 1\n",
    "        if str(word) in negative_words:\n",
    "            num_neg += 1\n",
    "    return {'num_pos': num_pos, 'num_neg': num_neg}"
   ]
  },
  {
   "cell_type": "code",
   "execution_count": 52,
   "metadata": {
    "collapsed": true
   },
   "outputs": [],
   "source": [
    "def validate_polarity(classification, ratio):\n",
    "    if classification == 'positive':\n",
    "        if ratio['num_pos'] > ratio['num_neg']:\n",
    "            return True\n",
    "    elif classification == 'negative':\n",
    "        if ratio['num_neg'] > ratio['num_pos']:\n",
    "            return True\n",
    "    elif classification == 'neutral':\n",
    "        if ratio['num_pos'] == ratio['num_neg']:\n",
    "            return True\n",
    "    else:\n",
    "        return False"
   ]
  },
  {
   "cell_type": "code",
   "execution_count": 53,
   "metadata": {
    "collapsed": true
   },
   "outputs": [],
   "source": [
    "def get_words_in_tweets(tweets):\n",
    "    allWords = []\n",
    "    for (processed_words, category) in tweets:\n",
    "        allWords.extend(processed_words)\n",
    "    return allWords"
   ]
  },
  {
   "cell_type": "code",
   "execution_count": 54,
   "metadata": {
    "collapsed": true
   },
   "outputs": [],
   "source": [
    "def get_word_features(wordList):\n",
    "    wordList = nltk.FreqDist(wordList)\n",
    "    wordFeatures = wordList.keys()\n",
    "    return wordFeatures"
   ]
  },
  {
   "cell_type": "code",
   "execution_count": 55,
   "metadata": {
    "collapsed": true
   },
   "outputs": [],
   "source": [
    "word_features = get_word_features(get_words_in_tweets(trainTweets))"
   ]
  },
  {
   "cell_type": "code",
   "execution_count": 56,
   "metadata": {
    "collapsed": true
   },
   "outputs": [],
   "source": [
    "def extract_features(document):\n",
    "    document_words = set(document)\n",
    "    features = {}\n",
    "    for word in word_features:\n",
    "        features['contains(%s)' % word] = (word in document_words)\n",
    "    return features"
   ]
  },
  {
   "cell_type": "code",
   "execution_count": 57,
   "metadata": {
    "collapsed": true
   },
   "outputs": [],
   "source": [
    "training_set = nltk.classify.apply_features(extract_features, trainTweets)"
   ]
  },
  {
   "cell_type": "code",
   "execution_count": 58,
   "metadata": {
    "collapsed": true
   },
   "outputs": [],
   "source": [
    "# Train a Naive Bayes classifier with training data\n",
    "classifier = nltk.NaiveBayesClassifier.train(training_set)"
   ]
  },
  {
   "cell_type": "code",
   "execution_count": 72,
   "metadata": {
    "collapsed": true
   },
   "outputs": [],
   "source": [
    "#print classifier.show_most_informative_features(10)"
   ]
  },
  {
   "cell_type": "code",
   "execution_count": 82,
   "metadata": {
    "collapsed": true
   },
   "outputs": [],
   "source": [
    "testData = db.testTweets\n",
    "testTweets = []\n",
    "for tweet in testData.find():\n",
    "    testTweets.append({'processed_words': tweet['processed_words'],\n",
    "                       'text': tweet['text']})"
   ]
  },
  {
   "cell_type": "code",
   "execution_count": 79,
   "metadata": {
    "collapsed": true
   },
   "outputs": [],
   "source": [
    "def classify(tweet):\n",
    "    classification = classifier.classify(extract_features(tweet))\n",
    "    ratio = polarity_ratio(tweet)\n",
    "    final_sentiment = \"\"\n",
    "\n",
    "    # Does the ratio of positive to negative words match the classifier output?\n",
    "    if validate_polarity(classification, ratio):\n",
    "        final_sentiment = classification\n",
    "    # If neutral and polarity was not validated, set final sentiment to sentiment with higher word count\n",
    "    else:\n",
    "        if ratio['num_pos'] > ratio['num_neg']:\n",
    "            final_sentiment = 'positive'\n",
    "        elif ratio['num_pos'] < ratio['num_neg']:\n",
    "            final_sentiment = 'negative'\n",
    "        else:\n",
    "            final_sentiment = 'neutral'  \n",
    "    \n",
    "    return final_sentiment"
   ]
  },
  {
   "cell_type": "code",
   "execution_count": 85,
   "metadata": {},
   "outputs": [
    {
     "name": "stdout",
     "output_type": "stream",
     "text": [
      "@coastaldann @SouthwestAir I just stopped booking with them 💁🏻\n",
      "neutral\n",
      "@CharlieWSM @SouthwestAir We're flying SWA to Reagan in March, so it is possible. You need to have a talk with Jean… https://t.co/esTBpqI2P5\n",
      "neutral\n",
      "Thanks Zach and @SouthwestAir team for a great flight from BWI to Denver! #smoothholidaytravel… https://t.co/aWlsiE4gos\n",
      "positive\n",
      "First time flying with you guys . I don't want no huff shit going down and the pilot better be cool with me flying the plane. @SouthwestAir\n",
      "positive\n",
      "You haven't met Drill Diaz yet huh!!! https://t.co/hBg04paPjR\n",
      "neutral\n",
      "@SouthwestAir I was quick to criticize, but I also want to say thank you for quickly finding an item I left on boar… https://t.co/Apjw2ObiGQ\n",
      "neutral\n",
      "@southwestair Been having an issue since the 8th of October. My golf clubs are gone. I’ve been getting the run arou… https://t.co/dFUcra3iRQ\n",
      "negative\n",
      "@southwestair Pls find a way to reward the flight crew, Pilot &amp; FO on  1842 MDW &gt; BWI tonight. They took everything… https://t.co/5BSyZiyjxX\n",
      "positive\n",
      "@SouthwestAir How about this.... you call the sky harbor baggage claim and ask Peggie and the mangers why won’t the… https://t.co/jQM0CUueKm\n",
      "neutral\n",
      "@SouthwestAir Thank you!!!\n",
      "positive\n",
      "#SouthwestAirlines is the best! We had trivia and a dance off to pass the time for a delay. best experience I've ever had flying! #midway\n",
      "positive\n",
      "@MorningWolfMatt @broadcastbliss @SouthwestAir That’s two mistakes, AM/PM and not flying @SouthwestAir! :) Safe travels anyway!\n",
      "neutral\n",
      "@Win_Ott @SouthwestAir Ya know Win @SouthwestAir has seemingly endless flights arriving @LASairport ... great place… https://t.co/oPPifEoE2D\n",
      "positive\n",
      "Why is it that @SouthwestAir is the only airline that doesn’t completely try and screw you with fees even when you… https://t.co/hbu9eNgwvd\n",
      "neutral\n",
      "@SouthwestAir Oh, don’t worry. My other flights are Southwest. Already adjusted my day and cities I am flying from.… https://t.co/WMbYSb3ldh\n",
      "negative\n",
      "@WoodysWorldTV @SouthwestAir Other airlines like to make up fees, that was my stab at them.\n",
      "\n",
      "Southwest doesn’t.\n",
      "\n",
      "On… https://t.co/oQvjaFJHF3\n",
      "neutral\n",
      "@SouthwestAir are u guys going to have any promotions for Black Friday? Or for cyber Monday? https://t.co/3nRldSeCWt\n",
      "neutral\n",
      "before I left T.F. Green airport one of my luggages still had its cover but 2 flights (TF to Baltimore to LAX) afte… https://t.co/g2bGHocKj3\n",
      "neutral\n",
      "@SouthwestAir sincerely, today is by far the best customer care and service I've ever had flying #aboveandbeyond #fun #kind #southwestheart\n",
      "positive\n",
      "Death Valley from the sky #lasvegas #viaggiatoridelmondo #southwest #southwestairlines… https://t.co/AmebBsGnDz\n",
      "negative\n",
      "😂😂😂😂 https://t.co/7c8q73XTJY\n",
      "neutral\n",
      "@BrianSumers @avgeekwife @SouthwestAir This is unbearably cute.\n",
      "positive\n",
      "Muchas gracias @SouthwestAir ! Ahora estaré más cercas y conectado con mi familia&lt;3 https://t.co/1v3ck856oS\n",
      "neutral\n",
      "Kudos to @SouthwestAir for the awesome customer service! They lost my luggage on my transfer flight in St. Louis, a… https://t.co/MWRZaM7OEP\n",
      "positive\n",
      "@SouthwestAir On gate A3 @AeropuertoSJU So far, so good with the costumer service. A very pleasant experience on my… https://t.co/wwu7pzB8LQ\n",
      "positive\n",
      "Took my son home, on his 1st ✈️ ride, to meet the fam in ATL! Shoutout to @SouthwestAir for the No Bag Fees! That’s… https://t.co/tAK2Qpcne8\n",
      "neutral\n",
      "@SouthwestAir Sent! And thank you!\n",
      "positive\n",
      "Flew @SouthwestAir to San Diego and got my luggage back ripped and completely destroyed handle 😩 There goes my $75… https://t.co/GYhfrGxuVi\n",
      "negative\n",
      "Great approach by @SouthwestAir Simple and very effective!!  #listening in Dallas https://t.co/nNo5kHPRfg\n",
      "positive\n",
      "Boycott @SouthwestAir ! Their policies steal from customers.\n",
      "negative\n"
     ]
    }
   ],
   "source": [
    "'''\n",
    "for i in range(800,830):\n",
    "    print(testTweets[i]['text'])\n",
    "    print(classify(testTweets[i]['processed_words']))\n",
    "'''"
   ]
  }
 ],
 "metadata": {
  "kernelspec": {
   "display_name": "Python 2",
   "language": "python",
   "name": "python2"
  },
  "language_info": {
   "codemirror_mode": {
    "name": "ipython",
    "version": 2
   },
   "file_extension": ".py",
   "mimetype": "text/x-python",
   "name": "python",
   "nbconvert_exporter": "python",
   "pygments_lexer": "ipython2",
   "version": "2.7.13"
  }
 },
 "nbformat": 4,
 "nbformat_minor": 2
}
