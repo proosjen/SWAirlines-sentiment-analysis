{
 "cells": [
  {
   "cell_type": "markdown",
   "metadata": {},
   "source": [
    "### The purpose of this file is to collect 150 tweets for our training data set. After collecting the data, we put the tweets into a csv file in order to manually label each tweet as positive, negative, or neutral. We then put this labeled data back into a mongo DB to run through our classifier."
   ]
  },
  {
   "cell_type": "code",
   "execution_count": 1,
   "metadata": {
    "collapsed": true
   },
   "outputs": [],
   "source": [
    "from pymongo import MongoClient\n",
    "client = MongoClient('localhost', 27017)"
   ]
  },
  {
   "cell_type": "code",
   "execution_count": 5,
   "metadata": {
    "collapsed": true
   },
   "outputs": [],
   "source": [
    "import tweepy\n",
    "import json\n",
    "import csv\n",
    "import pandas as pd\n",
    "import TweetCleanser\n",
    "import TweetStemToken\n",
    "import settings\n",
    "%matplotlib inline\n",
    "import matplotlib.pyplot as plt\n",
    "import numpy as np"
   ]
  },
  {
   "cell_type": "code",
   "execution_count": 3,
   "metadata": {
    "collapsed": true
   },
   "outputs": [],
   "source": [
    "db = client.local"
   ]
  },
  {
   "cell_type": "code",
   "execution_count": 22,
   "metadata": {
    "collapsed": true
   },
   "outputs": [],
   "source": [
    "class MyListener(tweepy.StreamListener):\n",
    "        \n",
    "    def on_data(self, data):\n",
    "        try:\n",
    "            tweet = json.loads(data)\n",
    "            # Filter out retweets and tweets from SouthwestAir\n",
    "            if not tweet['retweeted'] and 'RT @' not in tweet['text'] and tweet['user']['screen_name'] != 'SouthwestAir':\n",
    "                if db.trainTweets.find().count() <= 150:\n",
    "                    id_str = tweet['id_str']\n",
    "                    text = tweet['text']\n",
    "                    db.trainTweets.insert_one(\n",
    "                        {\n",
    "                            'id_str': id_str,\n",
    "                            'text': text,\n",
    "                        }\n",
    "                    )\n",
    "                else:\n",
    "                    return False\n",
    "                \n",
    "        except Exception as e:\n",
    "            print(\"error: \" + str(e))\n",
    "        \n",
    "    def on_error(self, error):\n",
    "        if error == 420:\n",
    "            return False\n",
    "        print(error)"
   ]
  },
  {
   "cell_type": "code",
   "execution_count": 23,
   "metadata": {
    "collapsed": true
   },
   "outputs": [],
   "source": [
    "C_KEY = settings.C_KEY\n",
    "C_SECRET = settings.C_SECRET\n",
    "A_TOKEN_KEY = settings.A_TOKEN_KEY\n",
    "A_TOKEN_SECRET = settings.A_TOKEN_SECRET"
   ]
  },
  {
   "cell_type": "code",
   "execution_count": 24,
   "metadata": {
    "collapsed": true
   },
   "outputs": [],
   "source": [
    "auth = tweepy.OAuthHandler(C_KEY, C_SECRET)\n",
    "auth.set_access_token(A_TOKEN_KEY, A_TOKEN_SECRET)\n",
    "api = tweepy.API(auth)"
   ]
  },
  {
   "cell_type": "code",
   "execution_count": 25,
   "metadata": {
    "collapsed": true
   },
   "outputs": [],
   "source": [
    "listener = MyListener(api=tweepy.API(wait_on_rate_limit=True))\n",
    "myStream = tweepy.Stream(auth=auth, listener=listener)\n",
    "myStream.filter(track=['southwest airlines', 'SouthwestAir', 'southwestairlines', 'flying southwest', 'fly southwest'])"
   ]
  },
  {
   "cell_type": "code",
   "execution_count": 28,
   "metadata": {
    "collapsed": true
   },
   "outputs": [],
   "source": [
    "existingTweets = open('trainTweets.csv', 'r').read()\n",
    "with open('trainTweets.csv', 'wb') as outFile:\n",
    "    writer = csv.writer(outFile)\n",
    "    for tweet in tweets.find():\n",
    "        if tweet['id_str'] not in existingTweets:\n",
    "            writer.writerow([tweet['id_str'], tweet['text'].encode('ascii', 'ignore').decode('ascii')])"
   ]
  },
  {
   "cell_type": "code",
   "execution_count": 4,
   "metadata": {
    "collapsed": true
   },
   "outputs": [],
   "source": [
    "train = pd.read_csv('trainTweets.csv', header='infer')\n",
    "for index, tweet in train.iterrows():\n",
    "    \n",
    "    # Preprocess tweet\n",
    "    text = tweet['text']\n",
    "    cleanser = TweetCleanser.TweetCleanser()\n",
    "    stemmer = TweetStemToken.TweetStemToken()\n",
    "    processed_words = cleanser.to_ascii(text)\n",
    "    processed_words = cleanser.remove_urls(processed_words)\n",
    "    processed_words = cleanser.remove_special_characters(processed_words)\n",
    "    processed_words = cleanser.remove_usernames(processed_words)\n",
    "    processed_words = cleanser.remove_numbers(processed_words)\n",
    "    processed_words = stemmer.stem(processed_words)\n",
    "    processed_words = stemmer.tokenize(processed_words)\n",
    "    processed_words = cleanser.remove_stopwords(processed_words)\n",
    "    \n",
    "    id_str = tweet['id_str']\n",
    "    category = tweet['category']\n",
    "    \n",
    "    db.trainData.insert_one(\n",
    "        {\n",
    "            'id_str': id_str,\n",
    "            'text': text,\n",
    "            'processed_words': processed_words,\n",
    "            'category': category\n",
    "        }\n",
    "    )"
   ]
  }
 ],
 "metadata": {
  "kernelspec": {
   "display_name": "Python 2",
   "language": "python",
   "name": "python2"
  },
  "language_info": {
   "codemirror_mode": {
    "name": "ipython",
    "version": 2
   },
   "file_extension": ".py",
   "mimetype": "text/x-python",
   "name": "python",
   "nbconvert_exporter": "python",
   "pygments_lexer": "ipython2",
   "version": "2.7.13"
  }
 },
 "nbformat": 4,
 "nbformat_minor": 2
}
