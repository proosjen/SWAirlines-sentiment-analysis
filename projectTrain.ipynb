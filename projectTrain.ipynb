{
 "cells": [
  {
   "cell_type": "code",
   "execution_count": 1,
   "metadata": {
    "collapsed": true
   },
   "outputs": [],
   "source": [
    "from pymongo import MongoClient\n",
    "client = MongoClient('localhost', 27017)"
   ]
  },
  {
   "cell_type": "code",
   "execution_count": 5,
   "metadata": {
    "collapsed": true
   },
   "outputs": [],
   "source": [
    "import tweepy\n",
    "import json\n",
    "import csv\n",
    "import pandas as pd\n",
    "import TweetCleanser\n",
    "import TweetStemToken\n",
    "import settings\n",
    "%matplotlib inline\n",
    "import matplotlib.pyplot as plt\n",
    "import numpy as np"
   ]
  },
  {
   "cell_type": "code",
   "execution_count": 3,
   "metadata": {
    "collapsed": true
   },
   "outputs": [],
   "source": [
    "db = client.local"
   ]
  },
  {
   "cell_type": "code",
   "execution_count": 22,
   "metadata": {
    "collapsed": true
   },
   "outputs": [],
   "source": [
    "class MyListener(tweepy.StreamListener):\n",
    "        \n",
    "    def on_data(self, data):\n",
    "        try:\n",
    "            tweet = json.loads(data)\n",
    "            # Filter out retweets and tweets from SouthwestAir\n",
    "            if not tweet['retweeted'] and 'RT @' not in tweet['text'] and tweet['user']['screen_name'] != 'SouthwestAir':\n",
    "                if db.trainTweets.find().count() <= 150:\n",
    "                    id_str = tweet['id_str']\n",
    "                    text = tweet['text']\n",
    "                    db.trainTweets.insert_one(\n",
    "                        {\n",
    "                            'id_str': id_str,\n",
    "                            'text': text,\n",
    "                        }\n",
    "                    )\n",
    "                else:\n",
    "                    return False\n",
    "                \n",
    "        except Exception as e:\n",
    "            print(\"error: \" + str(e))\n",
    "        \n",
    "    def on_error(self, error):\n",
    "        if error == 420:\n",
    "            return False\n",
    "        print(error)"
   ]
  },
  {
   "cell_type": "code",
   "execution_count": 23,
   "metadata": {
    "collapsed": true
   },
   "outputs": [],
   "source": [
    "C_KEY = settings.C_KEY\n",
    "C_SECRET = settings.C_SECRET\n",
    "A_TOKEN_KEY = settings.A_TOKEN_KEY\n",
    "A_TOKEN_SECRET = settings.A_TOKEN_SECRET"
   ]
  },
  {
   "cell_type": "code",
   "execution_count": 24,
   "metadata": {
    "collapsed": true
   },
   "outputs": [],
   "source": [
    "auth = tweepy.OAuthHandler(C_KEY, C_SECRET)\n",
    "auth.set_access_token(A_TOKEN_KEY, A_TOKEN_SECRET)\n",
    "api = tweepy.API(auth)"
   ]
  },
  {
   "cell_type": "code",
   "execution_count": 25,
   "metadata": {
    "collapsed": true
   },
   "outputs": [],
   "source": [
    "listener = MyListener(api=tweepy.API(wait_on_rate_limit=True))\n",
    "myStream = tweepy.Stream(auth=auth, listener=listener)\n",
    "myStream.filter(track=['southwest airlines', 'SouthwestAir', 'southwestairlines', 'flying southwest', 'fly southwest'])"
   ]
  },
  {
   "cell_type": "code",
   "execution_count": 26,
   "metadata": {},
   "outputs": [
    {
     "name": "stdout",
     "output_type": "stream",
     "text": [
      "Found 151 tweets:\n",
      "Southwest Airlines flight #SWA432 spotted at 16,775 feet! https://t.co/X80ugao76Q\n",
      "Southwest Airlines flight #SWA227 spotted at 18,500 feet! https://t.co/FBjyFKMQEi\n",
      "So cool @jasminecainrock  i bet they loved that live show @ the airport . https://t.co/TSizhtlsAz\n",
      "Southwest Airlines flight #SWA227 spotted at 4,950 feet! https://t.co/FBjyFKMQEi\n",
      "Southwest Airlines flight #SWA432 spotted at 29,000 feet! https://t.co/X80ugao76Q\n",
      "@SouthwestAir Nobody was there when our flight got in. Like it was literally empty in Spokane international airport… https://t.co/386lkfEK2l\n",
      "Southwest Airlines To Feature Live Country Music Concerts On Its Flights #muslim https://t.co/8Ak5PZCPP8 (via… https://t.co/WgePG1dQmn\n",
      "@SouthwestAir You’ll for this too happen.\n",
      "SMF to Austin nonstop? Let’s go. https://t.co/5Zwxi5Uhg8\n",
      "Oh my god 😂 always do but had to get to ATL on super short notice for super cheap. Sorry, next time. https://t.co/fYDbjABE8i\n",
      "Thank you @SouthwestAir for providing me with a voucher after a delay during my travel plans this past week. #bestairline\n",
      "@SouthwestAir I love this story!\n",
      "@lovejozie @SouthwestAir It’s my disguise for my corporate name 😂\n",
      "@WillBurke24 @SouthwestAir Absolute drama\n",
      "This 6-year-old girl wants to be a Southwest Airlines pilot so badly, she wears a uniform on every flight https://t.co/ipkM1d8Gig\n",
      "#SouthwestAir Trying Out In-#Flight Live Music - Nasdaq : https://t.co/YiRmSakZKT\n",
      "@SouthwestAir @heyd4rth\n",
      "Specifically mentioned in the expansion plans are Southwest Airlines, United, and Frontier Airlines. #UnitedAirlines https://t.co/SB8k55r04Z\n",
      "Southwest Airlines flight #SWA633 spotted at 2,000 feet! https://t.co/glV0ynXAz2\n",
      "@Jimapedia @MCO #RaceToMCO \n",
      "\n",
      "@PHLAirport @BUFAirport @SouthwestAir https://t.co/AwypahpXyC\n",
      "wtf @SouthwestAir losing my bag!!!!!!!!!!!!\n",
      "I might consider an Orlando City SC trip now https://t.co/6ritdLobk6\n",
      "@jasminecainrock @SouthwestAir Yeah! Janis\n",
      "@SouthwestAir About time we have a non stop to Cabo! ♥️\n",
      "Ohooooo 👀❤️#luv https://t.co/L34gzH5xzK\n",
      "This is the greatest thing that’s happened since @realDonaldTrump had his twitter shut down https://t.co/IT4xGlO8Vf\n",
      "Keep those mimosas flowing @SouthwestAir https://t.co/r1MgSCKzR7\n",
      "$% +1_877_294_2845 $%Southwest Airlines Booking Phone Number\n",
      "\n",
      "Call Southwest Airlines Booking Phone Number and get \n",
      "https://t.co/vR00FMA5MG\n",
      "@SouthwestAir My one and only airline, always and Forever\n",
      "@iAlwaysQuestion @ICU1972 It's why American Airlines got Congress to enact the Wright Amendment, to protect them fr… https://t.co/cZBSII8PMC\n",
      "Awww you guys ♥️💙 https://t.co/HEk5b9XWn1\n",
      "#!877~294~2845 %Southwest Airlines Booking Phone Number% Reservations\n",
      "\n",
      "Call Southwest Airlines Booking Phone Number\n",
      "https://t.co/SEHU1lEqkT\n",
      "Hey @SouthwestAir — where ya at? https://t.co/sGXd6EjigK\n",
      "@jasminecainrock @SouthwestAir Awesome @jasminecainrock u are amazing and u rock\n",
      "@SouthwestAir is flying to Buenos Aires out of SJC. I’m posting proof @ 10am!\n",
      "@jasminecainrock @SouthwestAir Thank you for being a real person! Fantastic voice.\n",
      "@SouthwestAir MCO — 10+ people waiting\n",
      "non stops to St. Louis? might have to go see @IndyCar at @GatewayRaceway https://t.co/v69gMLrSzT\n",
      "might have to fly out to see @IndyCar at Gateway. https://t.co/v69gMLrSzT\n",
      "They don’t ask just anyone to sing! https://t.co/PU2Kvn6grB\n",
      "@SouthwestAir What happened to southwest adding flights to Hawaii ?\n",
      "24 to NYC, photos series - https://t.co/O4cu9LEcfW #travel #inspire @delta @SouthwestAir\n",
      "Earned Media Rising Podcast: Southwest Airlines' Linda Rutherford and Frito-Lay NA's Chris Kuechenmeister… https://t.co/mJx6TkI5vM\n",
      "@SouthwestAir  https://t.co/XPovNkytRL\n",
      "@SouthwestAir So what's up with that Honolulu flight??\n",
      "Cautiously excited about these deals to O'ahu https://t.co/VIxEjWJ86v\n",
      "Southwest Airlines To Feature Live Country Music Concerts On Its Flights #musician https://t.co/NBHno3IYZo https://t.co/kbP7Yb2PZK\n",
      "Southwest Airlines To Feature Live Country Music Concerts On Its Flights #music https://t.co/cjxVp0X6S3 - via… https://t.co/nLrAMmj0U1\n",
      "@MarkBermanFox26 @SouthwestAir I would've taken out more gear and put more on!!\n",
      "Southwest Airlines announces planes to fly to Hawaii in 2018. https://t.co/MW3oyETeIc\n",
      "🤘👑🤘 https://t.co/5HgrkEaei3\n",
      "Someone should please sue them https://t.co/kq3HJjQx9x\n",
      "Southwest Airlines prepares for weekly and daily St. Louis to Cancun flights https://t.co/GXs6IBwpEt\n",
      "@SouthwestAir Hook it up with a free round trip to Dayton so that I can catch a wedding\n",
      "Lyft is partnering with you &amp; giving you 10 free rides Use code: DUSK &gt;&gt;&gt; Crazy about Southwest Airlines?\n",
      "@SouthwestAir No! I’m trying to get my son home from college. He’s a swimmer and doesn’t get released until morning… https://t.co/seKOey79OY\n",
      "@SouthwestAir I could cry... I can’t afford these tickets... no thanksgiving with my son #singlemotherproblems\n",
      "@SouthwestAir I did. Been checking fares for weeks. They’ve been high.\n",
      "@SouthwestAir Thanks. I’ll keep checking with the other airlines and sites. Maybe a miracle so he can come home\n",
      "Southwest 737 loving California... #southwestairlines #737\n",
      "https://t.co/t98O9YRWJ6 https://t.co/bKtGLI5pJd\n",
      "https://t.co/bZ2JcjZDxJ *Love money? Get a $50 credit with Lyft &lt;&lt; Coupon Code is: PARX &gt;&gt; Southwest Airlines #\n",
      "I just entered to win 100s of prizes from @lillypulitzer and @southwestair and you should too! https://t.co/qHzmbuOAkj #SummerInLilly\n",
      "Rewards Case Study: Southwest Airlines Rapid Rewards https://t.co/ohupMqmKmL #loyalty #rewards via @smilerewards https://t.co/vri5eiFhsq\n",
      "@AmericanAir is tripping. @SouthwestAir wya?😫\n",
      "Southwest Airlines prepares for weekly and daily St. Louis to Cancun flights https://t.co/tPiRRSFzxD\n",
      "@glassj3n @BUFAirport @MCO #RaceToMCO presented by @SouthwestAir\n",
      "Southwest Airlines prepares for weekly and daily St. Louis to Cancun flights https://t.co/0Ip9D3qWgg\n",
      "We love flying @southwestair. They are THE best when flying with infants. @ Charleston… https://t.co/1p2TGwYo0w\n",
      "@SouthwestAir why are people missing their flights because of this longline at Newark airport?!?!Crazy!!!@TSA whats… https://t.co/ylVCUrwNZO\n",
      "Rewards Case Study: Southwest Airlines Rapid Rewards https://t.co/MZ3DnW2om7 #loyalty via @smilerewards https://t.co/jQORqkpOVM\n",
      "@AJKFreeland @SouthwestAir You sound really spoiled and annoying. Then just drive stop whining. Next.\n",
      "Hmm gf had a flight at 6am had to be 2hrs before flight drop off at 4am and flight cancelled.. damn!!!! @SouthwestAir\n",
      "@jasminecainrock @SouthwestAir Awesome!  Love it.\n",
      "Ranked: Top 20 Global Airline Brands by Market Share. 1. Delta 2. United Airlines 3. Southwest Airlines 4. America.. https://t.co/9ud08vvSrL\n",
      "“C’mon everyone! Sing along if you know the words...’Hit the plane down, there’s no survivors’...” https://t.co/d2mJztZiXf\n",
      "@JMNashville @SouthwestAir and there are those of us who do not drink and would love a 'Naked Juice.' Time for innovation!\n",
      "@SouthwestAir She has to wait till 7am now\n",
      "Southwest Airlines To Feature Live Country Music Concerts On Its Flights #musician https://t.co/1B0WIikgQQ https://t.co/1WO5MkgbTX\n",
      "HS students @davidsonacademy researching superb customer engagement @SouthwestAir - as a VERY frequent flyer..I ageee!\n",
      "#teacher #writerslife\n",
      "I normally love @SouthwestAir. But cancelling flight reservations with literally no notice isn’t cool under any circumstance.\n",
      "@deray @SouthwestAir Oh no . . . Southwest is my favorite carrier too. If they're gonna start that nonsense though,… https://t.co/8ds9JotJOq\n",
      "@deray @SouthwestAir I'm sure they'll make it right.  I ❤️@SouthwestAir they're the best.  Flying #Southwest to Veg… https://t.co/vdTkfpOoMH\n",
      "who tf wants to listen to a concert on a plane. i try to pass out even before we take off https://t.co/o0yDim6hTf\n",
      "Southwest Airlines To Feature Live Country Music Concerts On Its Flights #music https://t.co/aWLk17CqlX https://t.co/rfW3Oi3s3X\n",
      "Hey @SouthwestAir we have a missing pilot on flight 200 to ATL from LGA. Do u need me to step in??\n",
      "I should have just bought an @SouthwestAir ticket cause these other airlines are trash. @SouthwestAir start flying To Europe and others plz!\n",
      "Southwest Airlines working on approvals to enter Hawaii market https://t.co/WquuRhfak4\n",
      "Same. https://t.co/VuXpjoC8m4\n",
      "Really, really sad to hear that @SouthwestAir will no longer fly out of FNT. You guys really are the best of the best.\n",
      "Southwest Airlines prepares for weekly and daily St. Louis to Cancun flights https://t.co/b19WtFPgpS\n",
      "Ramp Agent - Southwest Airlines - Denver, CO https://t.co/1SCDl6YFPc Job Denver\n",
      "Beech Hill Advisors Inc. Acquires New Position in #SouthwestAir #Airlines Company (LUV) - Week Herald : https://t.co/ur5hkXjRG0\n",
      "OMG #southwestairlines you are always looking for ways to making #flying and #traveling easier.… https://t.co/HVNHlDVXix\n",
      "@deray @SouthwestAir Messy\n",
      "@SouthwestAir I understand. Just wanted you guys to know how loved you are. ❤️✈️\n",
      "Bout to sleep this ENTIRE flight!  😴 #Chicago ✈️ #LosAngeles #LegRoom @ Southwest Airlines at MDW https://t.co/b9JG29v7IZ\n",
      "Can someone teach me how to avoid getting stuck in the middle seat? @SouthwestAir\n",
      "Convenient? Not at all ... security lines at @KCIAirport for a 6:30 am @SouthwestAir flight. Vote YES for a… https://t.co/PES2s06bGM\n",
      "So mad that Southwest Airlines is leaving Flint airport! Guess I need to find a new favorite airline.. any suggestions?\n",
      "So upset that @SouthwestAir  is leaving Flint Bishop Airport! Guess I need a new favorite airline.. any suggestions?\n",
      "Ok @SouthwestAir I see you and your exit row extra legroom. First time flying with you &amp; already 👍\n",
      "@SouthwestAir Full site route page requires departure &amp; destination inputs - &amp; there are 3 airports in Bay Area. Campaign needs UX rethink.\n",
      "@AmericanAir missed my residency interview in Lubbock due to weather. @SouthwestAir had flights leaving at the same time, arrived on time 😡\n",
      "The Only Thing Scarier Than #SouthwestAir's In-#Flight Concerts Is the Fact People Enjoy Them - Dallas Observer : https://t.co/8IDogTu93X\n",
      "Totally impressed with @SouthwestAir crew on my flight this morning. Witnessed a somewhat chaotic medical emergency handled very smoothly.\n",
      "@deray @SouthwestAir My flight got canecled this morning and new flight out of a different airport is delayed. Anyw… https://t.co/KMbaayRaOy\n",
      "@tans0077 @brownie0077 @Delta @SouthwestAir Dude, I feel for him. Their customer service sucks.\n",
      "@SouthwestAir is always a step above the rest - turned down the lights &amp; sang happy bday to this woman for her 50th… https://t.co/hD9hbnQMug\n",
      "If u for Southwest Airlines... hit me in my INBOX!!!! Inbox.... not comment section!\n",
      "According to this article, Zappos, Nordstrom, USAA, Southwest Airlines, and Publix, held the top spots for... https://t.co/hGuAAhjome\n",
      "Hey @southwestair , once a flight is delayed, can the decision be reversed?\n",
      "@SouthwestAir Still time with flight delay ;-) Thanks\n",
      "According to this article, Zappos, Nordstrom, USAA, Southwest Airlines, and Publix, held the top spots for... https://t.co/OlpCOmwLIa\n",
      "@SouthwestAir destroyed my suitcase and I’m tryna stay calm but I’m literally so pissed\n",
      "Southwest Sale! Fly Around The US From Just $41 One Way! https://t.co/zBgaGStoQo https://t.co/b8tL20Cepy\n",
      "@16ajmain @AirborneCheetah Btw :3 https://t.co/lbapIiPHZo\n",
      "Enroute from (KTRM) Jacqueline Cochran Regional Airport, flying SouthWest.\n",
      "-1.5min\n",
      "https://t.co/XIQotrUdK9 https://t.co/nkD6BnqFsd\n",
      "The Secret to the Success of #SouthwestAirlines, #Google, and #RitzCarlton: It’s Not What You think… https://t.co/ATt6BhQKna\n",
      "@SouthwestAir do you know what the baggage claim phone number at RSW airport is?\n",
      "Good Deal! Southwest Sale! Fly Around The US From Just $41 One Way! https://t.co/7Mqrxg1isH https://t.co/uMtjZbrLq9 via TravelPiratesUS\n",
      "@SouthwestAir how do I get my car rental receipt? Can I find this online?\n",
      "So disappointed in @SouthwestAir right now...\n",
      "@SouthwestAir flt24 into Hou thanks Erica and Cat\n",
      "Southwest Airlines working on approvals to enter Hawaii market - Pacific Business News (Honolulu) https://t.co/EpXuxNIuqA\n",
      "@southwestair flt 772, flight attendants were amazing! Especially sweetheart JEAN! Sang my wife happy birthday toda… https://t.co/DPK74AGJvP\n",
      "New #job opening at #SouthwestAirlines in #Phoenix! Customer #Service #Representative https://t.co/eLgByBnuea https://t.co/WizolDctCz\n",
      "How do you delay us two hours because you have to switch planes but then give us a broken plane that needs a new cargo door @SouthwestAir\n",
      "Southwest Airlines flight #SWA1581 spotted at 20,025 feet! https://t.co/C5FAujGyLL\n",
      "@SouthwestAir 131 DEN to CUN\n",
      "Southwest Airlines flight #SWA896 spotted at 1,725 feet! https://t.co/Iab1zBsyLA\n",
      "Technical #Operations- Engineering &amp; Reliability #... in #Dallas at #SouthwestAirlines #job https://t.co/g5oxkEbtF2 https://t.co/561I6OCK0Z\n",
      "@TrilliamGrant @SouthwestAir Mine was $36 #hatetobrag\n",
      "I just participated in an #AmazonGiveaway for Southwest Airlines Gift Card $50. Check it out here:\n",
      " https://t.co/ciDgC5BcnN\n",
      "@SouthwestAir &amp; Jean made a bday cake from TP, oxygen mask for her bday crown and made her bday 1 to remember! Jean… https://t.co/B0TniS1bZ1\n",
      "@SouthwestAir Do you have a way to text the White Companion Pass card to members?\n",
      "@SouthwestAir @taylorcolee I left my beanie baby on a plane. You still have dat? You got it?\n",
      "I just participated in an #AmazonGiveaway for Southwest Airlines Gift Card $50. Check it out here:\n",
      " https://t.co/bo4UWqhEA5\n",
      "The 55th @KSHonorFlight has arrived! We welcome our heroes back with a water canon salute aboard @SouthwestAir! https://t.co/IRIP5IlYIw\n",
      "😮😮😮 https://t.co/WEHBNlqozQ\n",
      "I just participated in an #AmazonGiveaway for Southwest Airlines Gift Card $50. Check it out here:\n",
      " https://t.co/c5M4zFTAOV\n",
      "I fly Southwest out of MSY every single week and I have yet to see anyone sing.  :( https://t.co/mrgQjoV3Eq\n",
      "@southwestair How can I add my TSA PreCheck to my Boarding Pass??\n",
      "Thank you @SouthwestAir for the fantastic deals I just got for my families travels in Dec! It felt like Christmas came early! ❤️SW Air\n",
      "@SouthwestAir my 1st time taking them in over 6 years we are waiting over hour and ten mins on the plane because of a door handle ugh.\n",
      "Thank you @SouthwestAir for the fantastic deals I just got for my family’s travels in Dec! It felt like Christmas came early! ❤️SW Air\n",
      "@SouthwestAir I purchased Wifi on my recent flight, but Wifi wouldn't connect during flight. Any chance I could get a refund for this?\n",
      "I just participated in an #AmazonGiveaway for Southwest Airlines Gift Card $50. Check it out here:\n",
      " https://t.co/jQoAqmHiVE\n",
      "🌾👀🌾 https://t.co/7NfCnJdC0g\n",
      "@southwestair called to get my known traveler number on my boarding pass but it is still not there\n",
      "@Cal32Ellis @SouthwestAir Ask them if they have any exit seats available next time!\n",
      "These awesome students from @AndoverSchools volunteered to help @KSHonorFlight off the @SouthwestAir plane! https://t.co/ve2yCe49Uq\n"
     ]
    }
   ],
   "source": [
    "tweets = db.trainTweets\n",
    "print \"Found\", tweets.count(), \"tweets:\" \n",
    "for tweet in tweets.find():\n",
    "    print tweet['text']"
   ]
  },
  {
   "cell_type": "code",
   "execution_count": 28,
   "metadata": {
    "collapsed": true
   },
   "outputs": [],
   "source": [
    "existingTweets = open('trainTweets.csv', 'r').read()\n",
    "with open('trainTweets.csv', 'wb') as outFile:\n",
    "    writer = csv.writer(outFile)\n",
    "    for tweet in tweets.find():\n",
    "        if tweet['id_str'] not in existingTweets:\n",
    "            writer.writerow([tweet['id_str'], tweet['text'].encode('ascii', 'ignore').decode('ascii')])"
   ]
  },
  {
   "cell_type": "code",
   "execution_count": 4,
   "metadata": {},
   "outputs": [],
   "source": [
    "train = pd.read_csv('trainTweets.csv', header='infer')\n",
    "for index, tweet in train.iterrows():\n",
    "    \n",
    "    # Preprocess tweet\n",
    "    text = tweet['text']\n",
    "    cleanser = TweetCleanser.TweetCleanser()\n",
    "    stemmer = TweetStemToken.TweetStemToken()\n",
    "    processed_words = cleanser.to_ascii(text)\n",
    "    processed_words = cleanser.remove_urls(processed_words)\n",
    "    processed_words = cleanser.remove_special_characters(processed_words)\n",
    "    processed_words = cleanser.remove_usernames(processed_words)\n",
    "    processed_words = cleanser.remove_numbers(processed_words)\n",
    "    processed_words = stemmer.stem(processed_words)\n",
    "    processed_words = stemmer.tokenize(processed_words)\n",
    "    processed_words = cleanser.remove_stopwords(processed_words)\n",
    "    \n",
    "    id_str = tweet['id_str']\n",
    "    category = tweet['category']\n",
    "    \n",
    "    db.trainData.insert_one(\n",
    "        {\n",
    "            'id_str': id_str,\n",
    "            'text': text,\n",
    "            'processed_words': processed_words,\n",
    "            'category': category\n",
    "        }\n",
    "    )"
   ]
  },
  {
   "cell_type": "code",
   "execution_count": 17,
   "metadata": {},
   "outputs": [
    {
     "data": {
      "text/plain": [
       "<matplotlib.text.Text at 0x115f4ec10>"
      ]
     },
     "execution_count": 17,
     "metadata": {},
     "output_type": "execute_result"
    },
    {
     "data": {
      "image/png": "[encoded data removed]",
      "text/plain": [
       "<matplotlib.figure.Figure at 0x115d53cd0>"
      ]
     },
     "metadata": {},
     "output_type": "display_data"
    }
   ],
   "source": [
    "numPos = len(train[train['category'] == 'positive'])\n",
    "numNeg = len(train[train['category'] == 'negative'])\n",
    "numNeut = len(train[train['category'] == 'neutral'])\n",
    "\n",
    "sentiments = ('positive', 'negative', 'neutral')\n",
    "x = np.arange(len(sentiments))\n",
    "y = [numPos, numNeg, numNeut]\n",
    "\n",
    "plt.bar(x, y)\n",
    "plt.xticks(x, sentiments)\n",
    "plt.ylabel('Number of tweets')\n",
    "plt.title('Sentiment type distribution in training data')"
   ]
  }
 ],
 "metadata": {
  "kernelspec": {
   "display_name": "Python 2",
   "language": "python",
   "name": "python2"
  },
  "language_info": {
   "codemirror_mode": {
    "name": "ipython",
    "version": 2
   },
   "file_extension": ".py",
   "mimetype": "text/x-python",
   "name": "python",
   "nbconvert_exporter": "python",
   "pygments_lexer": "ipython2",
   "version": "2.7.13"
  }
 },
 "nbformat": 4,
 "nbformat_minor": 2
}
