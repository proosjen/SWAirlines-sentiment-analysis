{
 "cells": [
  {
   "cell_type": "code",
   "execution_count": 1,
   "metadata": {
    "collapsed": true
   },
   "outputs": [],
   "source": [
    "C_KEY = 'Qiin47L4D53g3zH0GIfXG3egR'\n",
    "C_SECRET = 'QMUgcciWcCgeklW3ipyLRdJYlQgWYWQOQU4rKhrurE58UyORQg'\n",
    "A_TOKEN_KEY = '907976726097080321-WNdhYqcbztSbHviU3APVjJi9KlTgAeY'\n",
    "A_TOKEN_SECRET = 'KiwAd38Pyxe7qrrAhZUhE2W1ScZT4l2UgJ5yByCWb1U0f'\n",
    "\n",
    "keywords = ['southwest airlines', 'SouthwestAir', 'southwestairlines', 'flying southwest', 'fly southwest']\n",
    "tableName = \"trainTweets\""
   ]
  }
 ],
 "metadata": {
  "kernelspec": {
   "display_name": "Python 2",
   "language": "python",
   "name": "python2"
  },
  "language_info": {
   "codemirror_mode": {
    "name": "ipython",
    "version": 2
   },
   "file_extension": ".py",
   "mimetype": "text/x-python",
   "name": "python",
   "nbconvert_exporter": "python",
   "pygments_lexer": "ipython2",
   "version": "2.7.13"
  }
 },
 "nbformat": 4,
 "nbformat_minor": 2
}
